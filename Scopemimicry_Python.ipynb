{
 "cells": [
  {
   "cell_type": "markdown",
   "id": "61983f22-2fcb-4003-9398-731d63f54c16",
   "metadata": {},
   "source": [
    "# Scope mimicry, Python version\n",
    "\n",
    "to diagnose potential trigger and buffer storage issue\n",
    "\n",
    "Pierre, March 2025"
   ]
  },
  {
   "cell_type": "code",
   "execution_count": 23,
   "id": "aa588e03-12ee-45d7-92c0-9973a02e7ec5",
   "metadata": {},
   "outputs": [],
   "source": [
    "import numpy as np\n",
    "from enum import Enum\n",
    "F = False\n",
    "T = True"
   ]
  },
  {
   "cell_type": "markdown",
   "id": "c26988e1-3887-4d26-b95c-fdfdec045434",
   "metadata": {},
   "source": [
    "## ScopeMimicry code\n",
    "\n",
    "### Original C++ version adapted to Python"
   ]
  },
  {
   "cell_type": "code",
   "execution_count": 2,
   "id": "afb30854-eff5-4d69-810d-52a31620a246",
   "metadata": {},
   "outputs": [],
   "source": [
    "class ScopeMimicry:\n",
    "    def __init__(self, length: int, nb_channel: int):\n",
    "        \"\"\"\n",
    "    \tuint16_t _idx_name;\n",
    "    \tuint16_t _idx_datas;\n",
    "    \tfloat32_t *_channel_numbers;\n",
    "    \tfloat32_t *_memory;\n",
    "    \n",
    "    \tuint16_t _decimation;\n",
    "\n",
    "    \t/* variable for dump_datas method */\n",
    "    \te_dump_state dump_state;\n",
    "    \tchar hash[2] = \"#\";\n",
    "    \tchar nullchar[2] = \" \";\n",
    "    \tchar char_name[256];\n",
    "    \t/* each data is a float written in hexa so eight chars with \\n and \\0 chars at end */\n",
    "    \tchar char_data[10];\n",
    "    \tchar *data_dumped;\n",
    "        \"\"\"\n",
    "        print(f\"Init ScopeMimicry(length={length}, nb_channel={nb_channel})\")\n",
    "        self._length = length\n",
    "        self._nb_channel = nb_channel\n",
    "        self._acq_counter = 0\n",
    "        self._effective_chan_number = 0\n",
    "        self._old_trigg_value = False\n",
    "        self._trigged = False\n",
    "        self._delay = 0\n",
    "        self._delay_complement = length\n",
    "        self._trigged_counter = length\n",
    "        self._final_idx = length-1\n",
    "\n",
    "        self._memory = np.zeros(self._length*self._nb_channel)\n",
    "        self._names = [f\"ch{i}\" for i in range(nb_channel)] # default name\n",
    "        # Pointers to the global memory. \n",
    "        # Python-specific adaptation: values should be keys of the `global_memory` dict\n",
    "        self._channels = [None for i in range(nb_channel)] \n",
    "\n",
    "        self._triggFunc = lambda : False\n",
    "        # Python specific: mockup program global memory where the _channels pointer should point to\n",
    "        self.global_memory = dict()\n",
    "    # end init\n",
    "    \n",
    "    def connectChannel(self, channel_addr, name: str):\n",
    "        \"\"\"store channel address withing (Python-specific: in C it stores the pointer)\n",
    "        along with channel name\n",
    "        \"\"\"\n",
    "        print(f'Connect channel named \"{name}\" to variable at addr \"{channel_addr}\"')\n",
    "        if self._effective_chan_number < self._nb_channel:\n",
    "            # capture the reference of the variable.\n",
    "            self._channels[self._effective_chan_number] = channel_addr\n",
    "            self._names[self._effective_chan_number] = name\n",
    "            self._effective_chan_number += 1\n",
    "    # end connectChannel\n",
    "    \n",
    "    def acquire(self) -> int:\n",
    "        \"\"\"add one value of each channel into its internal memory,\n",
    "        if the trigger has been activated.\n",
    "        Returns 0,1,2 as status\n",
    "        \"\"\"\n",
    "        # Call trigger function\n",
    "        trigg_value = self._triggFunc()\n",
    "        # compute trigger status\n",
    "        if not self._old_trigg_value and trigg_value and not self._trigged:\n",
    "            self._trigged = True\n",
    "            # CHANGED from C++ ._acq_counter + self._delay_complement - 1: -1 removed! DOESN'T WORK!\n",
    "            self._trigged_counter = (self._acq_counter + self._delay_complement - 1) % self._length\n",
    "            if (self._acq_counter + self._delay_complement - 1) < self._length:\n",
    "                compute_detail = f'{self._acq_counter}+{self._delay_complement}-1'\n",
    "            else:\n",
    "                compute_detail = f'({self._acq_counter}+{self._delay_complement}-1)%{self._length}'\n",
    "            print(f'  !trigger started: _trigged_counter = {self._trigged_counter} [i.e. {compute_detail}]')\n",
    "\n",
    "        self._old_trigg_value = trigg_value;\n",
    "    \n",
    "        if not self._trigged:\n",
    "            self._trigged_counter = -1\n",
    "\n",
    "        print(f'  _acq_counter={self._acq_counter}', end=', ')\n",
    "        if trigg_value:\n",
    "            print('trigg_value', end=', ')\n",
    "        if self._trigged:\n",
    "            print('_trigged', end=', ')\n",
    "        print()\n",
    "        if self._acq_counter != self._trigged_counter:\n",
    "            self._acq_counter = (self._acq_counter + 1) % self._length\n",
    "            for k_ch in range(self._effective_chan_number):\n",
    "                # Python-specific: search self._channels[k_ch] value within self.global_memory:\n",
    "                self._memory[(self._acq_counter * self._nb_channel) + k_ch] = self.global_memory[self._channels[k_ch]] \n",
    "            # CHANGED from C++: _acq_counter updated *after* record\n",
    "            if self._trigged:\n",
    "                return 1\n",
    "            else:\n",
    "                return 0\n",
    "        else:\n",
    "            print(f'  acquisition already done: no record (_final_idx={self._final_idx})')\n",
    "            self._final_idx = self._acq_counter;\n",
    "            return 2\n",
    "    # end acquire\n",
    "        \n",
    "    def set_delay(self, d: float):\n",
    "        \"\"\"Define a delay to record data before the trigg. delay is in [0, 1]\n",
    "        \"\"\"\n",
    "        if d < 0.0:\n",
    "            self._delay = 0.0;\n",
    "        elif d >= 1.0:\n",
    "            self._delay = self._length\n",
    "        else:\n",
    "            self._delay = int(d *self._length)\n",
    "        \n",
    "        self._delay_complement = self._length - self._delay\n",
    "        print(f'Set delay d={d}:')\n",
    "        print(f'- _delay={self._delay}')\n",
    "        print(f'- _delay_complement={self._delay_complement}')\n",
    "    \n",
    "    def start(self):\n",
    "        \"\"\"reset the trigger and enable to record new data_dumped\"\"\"\n",
    "        self._trigged = False\n",
    "        self._old_trigg_value = False\n",
    "\n",
    "    def set_trigger(self, func):\n",
    "        \"\"\"set trigger function. `func` should return True at some instant to enable trigger\n",
    "        \"\"\"\n",
    "        self._triggFunc = func"
   ]
  },
  {
   "cell_type": "markdown",
   "id": "b9581c97-8630-4cf1-8a19-e1ad24f8a649",
   "metadata": {},
   "source": [
    "### Scope v2\n",
    "\n",
    "with updated acquisition state machine\n",
    "\n",
    "![scope acquisition state machine V2](Scope_State-machine.png)"
   ]
  },
  {
   "cell_type": "code",
   "execution_count": 3,
   "id": "0a369531-51c5-4071-845a-a960628bcef8",
   "metadata": {},
   "outputs": [],
   "source": [
    "class ScopeStatus(Enum):\n",
    "    \"Scope data acquisition status\"\n",
    "    ACQ_UNTRIG = 0\n",
    "    ACQ_TRIG = 1\n",
    "    DONE = 2"
   ]
  },
  {
   "cell_type": "code",
   "execution_count": 40,
   "id": "d05ec914-38d9-4f58-9a47-6ae6def897ed",
   "metadata": {},
   "outputs": [],
   "source": [
    "class ScopeV2:\n",
    "    def __init__(self, length: int, nb_channel: int):\n",
    "        print(f\"Init ScopeV2(length={length}, nb_channel={nb_channel})\")\n",
    "        self._length = length\n",
    "        self._nb_channel = nb_channel\n",
    "        self._nb_channel_effective = 0\n",
    "        self._nb_pretrig = 0\n",
    "        #self._posttrig_delay = 0 # not implemented yet\n",
    "\n",
    "        # Start state\n",
    "        self._status = ScopeStatus.ACQ_UNTRIG\n",
    "        self._acq_count = 0\n",
    "        self._posttrig_count = 0\n",
    "        self._mem_idx = 0\n",
    "        self._last_idx = 0\n",
    "\n",
    "        self._memory = np.zeros(self._length*self._nb_channel)\n",
    "        self._names = [f\"ch{i}\" for i in range(nb_channel)] # default name\n",
    "        # Pointers to the global memory. \n",
    "        # Python-specific adaptation: values should be keys of the `global_memory` dict\n",
    "        self._channels = [None for i in range(nb_channel)] \n",
    "\n",
    "        self._triggFunc = lambda : False\n",
    "        # Python specific: mockup program global memory where the _channels pointer should point to\n",
    "        self.global_memory = dict()\n",
    "    # end init\n",
    "    \n",
    "    def connectChannel(self, channel_addr, name: str):\n",
    "        \"\"\"store channel address withing (Python-specific: in C it stores the pointer)\n",
    "        along with channel name\n",
    "        \"\"\"\n",
    "        print(f'Connect channel named \"{name}\" to variable at addr \"{channel_addr}\"')\n",
    "        if self._nb_channel_effective < self._nb_channel:\n",
    "            # capture the reference of the variable.\n",
    "            self._channels[self._nb_channel_effective] = channel_addr\n",
    "            self._names[self._nb_channel_effective] = name\n",
    "            self._nb_channel_effective += 1\n",
    "    # end connectChannel\n",
    "    \n",
    "    def acquire(self) -> ScopeStatus:\n",
    "        \"\"\"add one value of each channel into its internal memory,\n",
    "        if the trigger has been activated.\n",
    "        Returns ScopeStatus 0,1,2 as status\n",
    "        \"\"\"\n",
    "        # Call trigger function\n",
    "        trigg_value = self._triggFunc()\n",
    "        # Record status state change:\n",
    "        if self._status == ScopeStatus.ACQ_UNTRIG:\n",
    "            if trigg_value:\n",
    "                self._status = ScopeStatus.ACQ_TRIG\n",
    "                # ACQ_UNTRIG exit: keep at most nb_pretrig samples\n",
    "                self._acq_count = min(self._acq_count, self._nb_pretrig)\n",
    "                print(f'  Trigger event! (with already _acq_count={self._acq_count} samples)')\n",
    "        \n",
    "        if self._status == ScopeStatus.ACQ_TRIG: # including the case if status was changed just before \n",
    "            if self._posttrig_count == self._length - self._nb_pretrig:\n",
    "                self._status = ScopeStatus.DONE\n",
    "                # ACQ_TRIG exit: save last record index\n",
    "                self._last_idx = (self._mem_idx - 1) % length\n",
    "                print(f'  Record DONE (with _acq_count={self._acq_count}, _final_idx={self._last_idx})')\n",
    "\n",
    "        # Record action\n",
    "        if self._status == ScopeStatus.DONE:\n",
    "            self._status\n",
    "        else: # ScopeStatus.ACQ_UNTRIG || ScopeStatus.ACQ_TRIG\n",
    "            print(f'  Recording... (_acq_count={self._acq_count}, _posttrig_count={self._posttrig_count})')\n",
    "            for k_ch in range(self._nb_channel_effective):\n",
    "                self._memory[(self._mem_idx * self._nb_channel) + k_ch] = self.global_memory[self._channels[k_ch]] \n",
    "\n",
    "            self._mem_idx = (self._mem_idx + 1) % self._length\n",
    "            self._acq_count = min(self._acq_count + 1, self._length)\n",
    "            \n",
    "            if self._status == ScopeStatus.ACQ_TRIG:\n",
    "                self._posttrig_count = self._posttrig_count + 1\n",
    "\n",
    "        return self._status\n",
    "    # end acquire\n",
    "        \n",
    "    def set_delay(self, d: float): # TO BE RENAMED set_pretrig(samples: int) and  set_pretrig_ratio(ratio: float)\n",
    "        \"\"\"Define a delay to record data before the trigg. delay is in [0, 1]\n",
    "        \"\"\"\n",
    "        if d < 0.0:\n",
    "            self._nb_pretrig = 0.0;\n",
    "        elif d >= 1.0:\n",
    "            self._nb_pretrig = self._length\n",
    "        else:\n",
    "            self._nb_pretrig = int(d *self._length)\n",
    "            \n",
    "        print(f'Set delay d={d}:')\n",
    "        print(f'- _nb_pretrig={self._nb_pretrig}')\n",
    "    \n",
    "    def start(self):\n",
    "        \"\"\"reset the trigger and enable to record new data_dumped\"\"\"\n",
    "        self._status =  ScopeStatus.ACQ_UNTRIG\n",
    "        self._acq_count = 0\n",
    "        self._posttrig_count = 0\n",
    "        self._mem_idx = 0\n",
    "        self._last_idx = 0\n",
    "\n",
    "    def set_trigger(self, func):\n",
    "        \"\"\"set trigger function. `func` should return True at some instant to enable trigger\n",
    "        \"\"\"\n",
    "        self._triggFunc = func"
   ]
  },
  {
   "cell_type": "markdown",
   "id": "c649229b-d8a8-426e-8018-6221ce905201",
   "metadata": {},
   "source": [
    "## Test"
   ]
  },
  {
   "cell_type": "markdown",
   "id": "7c3ab26f-f104-4d2b-a0f1-780c5e882abe",
   "metadata": {},
   "source": [
    "### Test trigger functions\n",
    "\n",
    "1. Always True trigger\n",
    "2. Trigger which yields values from globally defined `trig_seq` at a globally defined instant `k`\n",
    "3. Variant of the same idea, but enclosed in a closure: `make_trig_fun(trig_seq)` returns a corresponding trigger function to be used once, since it increments its own time index at each call"
   ]
  },
  {
   "cell_type": "code",
   "execution_count": 5,
   "id": "ff1cf256-25e6-4a8b-8aaf-96256e1d8302",
   "metadata": {},
   "outputs": [
    {
     "data": {
      "text/plain": [
       "True"
      ]
     },
     "execution_count": 5,
     "metadata": {},
     "output_type": "execute_result"
    }
   ],
   "source": [
    "def trig_true():\n",
    "    'always True trigger'\n",
    "    return True\n",
    "trig_true()"
   ]
  },
  {
   "cell_type": "code",
   "execution_count": 6,
   "id": "720e26cc-30a2-4684-a6f8-f56e8c6b21db",
   "metadata": {},
   "outputs": [],
   "source": [
    "trig_seq = [False, True]\n",
    "k = 1"
   ]
  },
  {
   "cell_type": "code",
   "execution_count": 7,
   "id": "79096728-bd23-4cbe-9fdc-261a60589b7d",
   "metadata": {},
   "outputs": [
    {
     "data": {
      "text/plain": [
       "True"
      ]
     },
     "execution_count": 7,
     "metadata": {},
     "output_type": "execute_result"
    }
   ],
   "source": [
    "def trig_global_seq():\n",
    "    'trigger which returns the global value trig_seq[k]'\n",
    "    return trig_seq[k]\n",
    "trig_global_seq()"
   ]
  },
  {
   "cell_type": "code",
   "execution_count": 8,
   "id": "c3162a2a-6982-4ac7-9c81-04a3aa187702",
   "metadata": {},
   "outputs": [
    {
     "name": "stdout",
     "output_type": "stream",
     "text": [
      "creating trig function with sequence of length 3\n",
      "False True True\n"
     ]
    },
    {
     "ename": "RuntimeError",
     "evalue": "trig_fun() called more than 3 times",
     "output_type": "error",
     "traceback": [
      "\u001b[0;31m---------------------------------------------------------------------------\u001b[0m",
      "\u001b[0;31mRuntimeError\u001b[0m                              Traceback (most recent call last)",
      "Cell \u001b[0;32mIn[8], line 21\u001b[0m\n\u001b[1;32m     19\u001b[0m f \u001b[38;5;241m=\u001b[39m make_trig_fun([\u001b[38;5;28;01mFalse\u001b[39;00m, \u001b[38;5;28;01mTrue\u001b[39;00m, \u001b[38;5;28;01mTrue\u001b[39;00m])\n\u001b[1;32m     20\u001b[0m \u001b[38;5;28mprint\u001b[39m(f(), f(), f())\n\u001b[0;32m---> 21\u001b[0m \u001b[43mf\u001b[49m\u001b[43m(\u001b[49m\u001b[43m)\u001b[49m \u001b[38;5;66;03m# should raise RuntimeError\u001b[39;00m\n",
      "Cell \u001b[0;32mIn[8], line 13\u001b[0m, in \u001b[0;36mmake_trig_fun.<locals>.trig_fun\u001b[0;34m()\u001b[0m\n\u001b[1;32m     11\u001b[0m \u001b[38;5;28;01mnonlocal\u001b[39;00m k\n\u001b[1;32m     12\u001b[0m \u001b[38;5;28;01mif\u001b[39;00m \u001b[38;5;129;01mnot\u001b[39;00m k\u001b[38;5;241m<\u001b[39mK:\n\u001b[0;32m---> 13\u001b[0m     \u001b[38;5;28;01mraise\u001b[39;00m \u001b[38;5;167;01mRuntimeError\u001b[39;00m(\u001b[38;5;124mf\u001b[39m\u001b[38;5;124m'\u001b[39m\u001b[38;5;124mtrig_fun() called more than \u001b[39m\u001b[38;5;132;01m{\u001b[39;00mK\u001b[38;5;132;01m}\u001b[39;00m\u001b[38;5;124m times\u001b[39m\u001b[38;5;124m'\u001b[39m)\n\u001b[1;32m     14\u001b[0m t \u001b[38;5;241m=\u001b[39m trig_seq[k]\n\u001b[1;32m     15\u001b[0m k \u001b[38;5;241m+\u001b[39m\u001b[38;5;241m=\u001b[39m \u001b[38;5;241m1\u001b[39m\n",
      "\u001b[0;31mRuntimeError\u001b[0m: trig_fun() called more than 3 times"
     ]
    }
   ],
   "source": [
    "def make_trig_fun(trig_seq):\n",
    "    \"\"\"Returns a triggger function for sequence `trig_seq`\n",
    "    \n",
    "    The returned function will sequentially yield the successive values of `trig_seq` at each call\n",
    "    It will raise a RuntimeError if called more than len(trig_seq) times.\n",
    "    \"\"\"\n",
    "    k = 0\n",
    "    K = len(trig_seq)\n",
    "    print(f'creating trig function with sequence of length {K}')\n",
    "    def trig_fun():\n",
    "        nonlocal k\n",
    "        if not k<K:\n",
    "            raise RuntimeError(f'trig_fun() called more than {K} times')\n",
    "        t = trig_seq[k]\n",
    "        k += 1\n",
    "        return t\n",
    "    return trig_fun\n",
    "\n",
    "f = make_trig_fun([False, True, True])\n",
    "print(f(), f(), f())\n",
    "f() # should raise RuntimeError"
   ]
  },
  {
   "cell_type": "markdown",
   "id": "dc7921c6-0d27-4fe5-af9e-8e052a714a19",
   "metadata": {},
   "source": [
    "### Init scope"
   ]
  },
  {
   "cell_type": "markdown",
   "id": "1a0c9405-8e45-4258-9d5d-d51c1ddbe93c",
   "metadata": {},
   "source": [
    "Scope init. Memory is empty (full of 0s) at first"
   ]
  },
  {
   "cell_type": "code",
   "execution_count": 9,
   "id": "8b8d090f-25ac-4226-aedf-a0413ec5754a",
   "metadata": {},
   "outputs": [
    {
     "name": "stdout",
     "output_type": "stream",
     "text": [
      "Init ScopeMimicry(length=4, nb_channel=2)\n"
     ]
    },
    {
     "data": {
      "text/plain": [
       "array([0., 0., 0., 0., 0., 0., 0., 0.])"
      ]
     },
     "execution_count": 9,
     "metadata": {},
     "output_type": "execute_result"
    }
   ],
   "source": [
    "length = 4\n",
    "nb_channel = 2\n",
    "scope = ScopeMimicry(length, nb_channel)\n",
    "scope._memory # size length*nb_channel"
   ]
  },
  {
   "cell_type": "markdown",
   "id": "f959f45a-903b-4d88-b26a-0f2bbc3f6954",
   "metadata": {},
   "source": [
    "Set delay"
   ]
  },
  {
   "cell_type": "code",
   "execution_count": 10,
   "id": "1e3c9a1c-17ef-4fc5-b7f2-c1c0a97f9373",
   "metadata": {},
   "outputs": [
    {
     "name": "stdout",
     "output_type": "stream",
     "text": [
      "Set delay d=0.0:\n",
      "- _delay=0\n",
      "- _delay_complement=4\n"
     ]
    }
   ],
   "source": [
    "delay = 0.0\n",
    "scope.set_delay(delay)"
   ]
  },
  {
   "cell_type": "markdown",
   "id": "39a41b1a-ff77-4d2c-a5fd-88d4d25ff090",
   "metadata": {},
   "source": [
    "Connect channels:"
   ]
  },
  {
   "cell_type": "code",
   "execution_count": 11,
   "id": "8fe0f4bb-4b13-47a2-a50b-ad97349e7233",
   "metadata": {},
   "outputs": [
    {
     "name": "stdout",
     "output_type": "stream",
     "text": [
      "_effective_chan_number:  0\n",
      "Connect channel named \"ch1\" to variable at addr \"ptr1\"\n",
      "_effective_chan_number:  1\n",
      "Connect channel named \"ch2\" to variable at addr \"ptr2\"\n",
      "_effective_chan_number:  2\n"
     ]
    }
   ],
   "source": [
    "print('_effective_chan_number: ', scope._effective_chan_number)\n",
    "scope.connectChannel('ptr1', 'ch1')\n",
    "print('_effective_chan_number: ', scope._effective_chan_number)\n",
    "scope.connectChannel('ptr2', 'ch2')\n",
    "print('_effective_chan_number: ', scope._effective_chan_number)"
   ]
  },
  {
   "cell_type": "markdown",
   "id": "1874a90d-5604-4a91-9cf8-8d0f140fbb59",
   "metadata": {},
   "source": [
    "Connect trigger"
   ]
  },
  {
   "cell_type": "code",
   "execution_count": 12,
   "id": "71e9408e-f3a5-4603-9289-14337beb7ec4",
   "metadata": {},
   "outputs": [
    {
     "data": {
      "text/plain": [
       "<function __main__.trig_global_seq()>"
      ]
     },
     "execution_count": 12,
     "metadata": {},
     "output_type": "execute_result"
    }
   ],
   "source": [
    "#scope.set_trigger(trig_true) # always True\n",
    "scope.set_trigger(trig_global_seq) # trigger from globally defined sequence trig_seq\n",
    "scope._triggFunc"
   ]
  },
  {
   "cell_type": "markdown",
   "id": "65537f08-8cd2-4675-83c4-970e2af1e1f1",
   "metadata": {},
   "source": [
    "### Data acquisition test"
   ]
  },
  {
   "cell_type": "markdown",
   "id": "bfd72d3a-3690-4f29-bdc4-08897e0c3848",
   "metadata": {},
   "source": [
    "Test sequences (meant for `length=4`, `delay=0.5`, i.e `_delay=2`):\n",
    "- trigger at 4th instant\n",
    "- expected results: store ch1 = 12, 13, 14, 15"
   ]
  },
  {
   "cell_type": "code",
   "execution_count": 13,
   "id": "0d804951-4452-4930-8525-c8b46619ad80",
   "metadata": {},
   "outputs": [],
   "source": [
    "ch1_seq = [11, 12, 13, 14, 15]\n",
    "ch2_seq = [21, 22, 23, 24, 25]\n",
    "trig_seq = [False, False, False, True, True]\n",
    "K = len(ch1_seq)"
   ]
  },
  {
   "cell_type": "markdown",
   "id": "5a52a4f2-cfc5-4055-a75a-c3cda4e38359",
   "metadata": {},
   "source": [
    "Test sequences (meant for `length=4`, `delay=0.0`):\n",
    "- trigger at 1set instant\n",
    "- expected results: store ch1 = 11, 12, 13, 14"
   ]
  },
  {
   "cell_type": "code",
   "execution_count": 14,
   "id": "bce4745b-2c7e-4df8-9043-6ce2c43b4741",
   "metadata": {},
   "outputs": [],
   "source": [
    "ch1_seq = [11, 12, 13, 14, 15]\n",
    "ch2_seq = [21, 22, 23, 24, 25]\n",
    "trig_seq = [True, False, False, True, True] # only first True instant should have an impact\n",
    "K = len(ch1_seq)"
   ]
  },
  {
   "cell_type": "markdown",
   "id": "80ed9d16-8b6f-47c4-aa68-3d2f42086a71",
   "metadata": {},
   "source": [
    "Sequence of calls to `scope.acquire()`:"
   ]
  },
  {
   "cell_type": "code",
   "execution_count": 15,
   "id": "f6f463fc-854f-4313-9b18-33565378a440",
   "metadata": {},
   "outputs": [
    {
     "name": "stdout",
     "output_type": "stream",
     "text": [
      "k=0: ch1=11, ch2=21\n",
      "  !trigger started: _trigged_counter = 3 [i.e. 0+4-1]\n",
      "  _acq_counter=0, trigg_value, _trigged, \n",
      "→ return 1, memory= [ 0.  0. 11. 21.  0.  0.  0.  0.]\n",
      "k=1: ch1=12, ch2=22\n",
      "  _acq_counter=1, _trigged, \n",
      "→ return 1, memory= [ 0.  0. 11. 21. 12. 22.  0.  0.]\n",
      "k=2: ch1=13, ch2=23\n",
      "  _acq_counter=2, _trigged, \n",
      "→ return 1, memory= [ 0.  0. 11. 21. 12. 22. 13. 23.]\n",
      "k=3: ch1=14, ch2=24\n",
      "  _acq_counter=3, trigg_value, _trigged, \n",
      "  acquisition already done: no record (_final_idx=3)\n",
      "→ return 2, memory= [ 0.  0. 11. 21. 12. 22. 13. 23.]\n",
      "k=4: ch1=15, ch2=25\n",
      "  _acq_counter=3, trigg_value, _trigged, \n",
      "  acquisition already done: no record (_final_idx=3)\n",
      "→ return 2, memory= [ 0.  0. 11. 21. 12. 22. 13. 23.]\n"
     ]
    }
   ],
   "source": [
    "for k in range(K):\n",
    "    print(f'k={k}: ch1={ch1_seq[k]}, ch2={ch2_seq[k]}')\n",
    "    scope.global_memory['ptr1'] = ch1_seq[k]\n",
    "    scope.global_memory['ptr2'] = ch2_seq[k]\n",
    "    status = scope.acquire()\n",
    "    print(f'→ return {status},', 'memory=', scope._memory)"
   ]
  },
  {
   "cell_type": "markdown",
   "id": "9c3596fc-d5b6-441d-9d41-a16446cb90ab",
   "metadata": {},
   "source": [
    "#### Observations\n",
    "\n",
    "For experiment with scope of `length=4`, `delay=0.0`, `trig_seq = [1, ....]` (trigger at first instant)\n",
    "- because `_acq_counter` (index for the circular buffer, incremented with % `length`, i.e. from 0 to `length-1`) is incremented *before* storing, the first data acquired is stored in the 2nd slot.\n",
    "  - this looks odd, but is not necessarily a bug\n",
    "- trigger:\n",
    "    - starts correctly at 1st instant (k=0)\n",
    "    - is maintained correctly over successive instants\n",
    "- recording is done as long as `_acq_counter != _trigged_counter`, which is True in two cases:\n",
    "  - always True if untriggered, because `_trigged_counter = -1`\n",
    "  - True for some instants once triggered, because `_trigged_counter` gets set to `_acq_counter + _delay_complement - 1` (% `length`, with `_delay_complement= _length - _delay` ∈ [0,... ,`length`]).\n",
    "    - In that case, `_trigged_counter` = 0+`length`-1 = 3\n",
    "- BUG: the last element to be recorded is precisely when `_acq_counter` reaches `_trigged_counter`, so the last value of the is missed (only `lenth-1` element recorded, see remaining 0s in the memory)\n",
    "  - An incorrect fix would be to increase the `_trigged_counter` initialization formula (`_acq_counter + _delay_complement` instead of `_acq_counter + _delay_complement`), however, by virtue of the modulo `length`, this completely blocks the aquisition since then `_acq_counter == _trigged_counter` if `_delay_complement=length` (case of zero delay)\n",
    "\n",
    "For experiment with scope of `length=4`, `delay=0.5` (i.e `_delay=2`), `trig_seq = [0, 0, 0, 1, 1]`\n",
    "- trigger starst correctly at 4th instant (k=3)\n",
    "- same bug as before: missed last data point"
   ]
  },
  {
   "cell_type": "markdown",
   "id": "e27ac1da-bd15-4192-ab24-f6fabb48560b",
   "metadata": {},
   "source": [
    "### All in one function (for multiple tests)"
   ]
  },
  {
   "cell_type": "code",
   "execution_count": 17,
   "id": "cad20ce3-2b1b-46c2-8335-bd1a5a3958fa",
   "metadata": {
    "scrolled": true
   },
   "outputs": [],
   "source": [
    "def test_2ch_record(length, delay, ch1_seq, ch2_seq, trig_seq, ScopeCls = ScopeMimicry):\n",
    "    \"\"\"test scope recording with `length` and `delay` of two channels\n",
    "    with list data:\n",
    "    - ch1_seq, ch2_seq: values for ch1, ch2 along instants\n",
    "    - trig_seq: trigger values along instants\n",
    "    \"\"\"\n",
    "    K = len(ch1_seq)\n",
    "    assert len(ch1_seq) == len(ch2_seq)\n",
    "    assert len(ch1_seq) == len(trig_seq)\n",
    "    print(f'Scope simulating along {K} instants...')\n",
    "    nb_channel = 2\n",
    "    scope = ScopeCls(length, nb_channel)\n",
    "    \n",
    "    scope.set_delay(delay)\n",
    "    \n",
    "    #Connect channels:\n",
    "    scope.connectChannel('ptr1', 'ch1')\n",
    "    scope.connectChannel('ptr2', 'ch2')\n",
    "    \n",
    "    #Connect trigger\n",
    "    scope.set_trigger(make_trig_fun(trig_seq))\n",
    "    \n",
    "    ### Acquire a sequence of instants: first instant\n",
    "    \n",
    "    for k in range(K):\n",
    "        print(f'k={k}: ch1={ch1_seq[k]}, ch2={ch2_seq[k]}')\n",
    "        scope.global_memory['ptr1'] = ch1_seq[k]\n",
    "        scope.global_memory['ptr2'] = ch2_seq[k]\n",
    "        status = scope.acquire()\n",
    "        print(f'  → return {status},', 'memory=', scope._memory)\n",
    "        print()"
   ]
  },
  {
   "cell_type": "markdown",
   "id": "de80c47e-63e2-4ac7-8fff-d84fb6fc9dc3",
   "metadata": {},
   "source": [
    "#### Basic test with 0 delay, trigger at 1st instant\n",
    "\n",
    "Expected result:\n",
    "- ch1 recorded values = [11, 12, 13]\n",
    "- ScopeMimicry: `mem=[13. 23. 11. 21. 12. 22.]`, `final_idx=0`\n",
    "  - actual result: `mem=[ 0.  0. 11. 21. 12. 22.]`, `final_idx=2` ❌ (last instant missed)\n",
    "- ScopeV2: `mem=[11. 21. 12. 22. 13. 23.]`, `final_idx=2` → ✅"
   ]
  },
  {
   "cell_type": "code",
   "execution_count": 41,
   "id": "fe4a47b8-aa07-4282-8b4d-ecb59fe023aa",
   "metadata": {},
   "outputs": [
    {
     "name": "stdout",
     "output_type": "stream",
     "text": [
      "Scope simulating along 5 instants...\n",
      "Init ScopeMimicry(length=3, nb_channel=2)\n",
      "Set delay d=0.0:\n",
      "- _delay=0\n",
      "- _delay_complement=3\n",
      "Connect channel named \"ch1\" to variable at addr \"ptr1\"\n",
      "Connect channel named \"ch2\" to variable at addr \"ptr2\"\n",
      "creating trig function with sequence of length 5\n",
      "k=0: ch1=11, ch2=21\n",
      "  !trigger started: _trigged_counter = 2 [i.e. 0+3-1]\n",
      "  _acq_counter=0, trigg_value, _trigged, \n",
      "  → return 1, memory= [ 0.  0. 11. 21.  0.  0.]\n",
      "\n",
      "k=1: ch1=12, ch2=22\n",
      "  _acq_counter=1, trigg_value, _trigged, \n",
      "  → return 1, memory= [ 0.  0. 11. 21. 12. 22.]\n",
      "\n",
      "k=2: ch1=13, ch2=23\n",
      "  _acq_counter=2, trigg_value, _trigged, \n",
      "  acquisition already done: no record (_final_idx=2)\n",
      "  → return 2, memory= [ 0.  0. 11. 21. 12. 22.]\n",
      "\n",
      "k=3: ch1=14, ch2=24\n",
      "  _acq_counter=2, trigg_value, _trigged, \n",
      "  acquisition already done: no record (_final_idx=2)\n",
      "  → return 2, memory= [ 0.  0. 11. 21. 12. 22.]\n",
      "\n",
      "k=4: ch1=15, ch2=25\n",
      "  _acq_counter=2, trigg_value, _trigged, \n",
      "  acquisition already done: no record (_final_idx=2)\n",
      "  → return 2, memory= [ 0.  0. 11. 21. 12. 22.]\n",
      "\n",
      "------------------------------------------------------------\n",
      "Scope simulating along 5 instants...\n",
      "Init ScopeV2(length=3, nb_channel=2)\n",
      "Set delay d=0.0:\n",
      "- _nb_pretrig=0\n",
      "Connect channel named \"ch1\" to variable at addr \"ptr1\"\n",
      "Connect channel named \"ch2\" to variable at addr \"ptr2\"\n",
      "creating trig function with sequence of length 5\n",
      "k=0: ch1=11, ch2=21\n",
      "  Trigger event! (with already _acq_count=0 samples)\n",
      "  Recording... (_acq_count=0, _posttrig_count=0)\n",
      "  → return ScopeStatus.ACQ_TRIG, memory= [11. 21.  0.  0.  0.  0.]\n",
      "\n",
      "k=1: ch1=12, ch2=22\n",
      "  Recording... (_acq_count=1, _posttrig_count=1)\n",
      "  → return ScopeStatus.ACQ_TRIG, memory= [11. 21. 12. 22.  0.  0.]\n",
      "\n",
      "k=2: ch1=13, ch2=23\n",
      "  Recording... (_acq_count=2, _posttrig_count=2)\n",
      "  → return ScopeStatus.ACQ_TRIG, memory= [11. 21. 12. 22. 13. 23.]\n",
      "\n",
      "k=3: ch1=14, ch2=24\n",
      "  Record DONE (with _acq_count=3, _final_idx=2)\n",
      "  → return ScopeStatus.DONE, memory= [11. 21. 12. 22. 13. 23.]\n",
      "\n",
      "k=4: ch1=15, ch2=25\n",
      "  → return ScopeStatus.DONE, memory= [11. 21. 12. 22. 13. 23.]\n",
      "\n"
     ]
    }
   ],
   "source": [
    "length = 3\n",
    "delay = 0.0\n",
    "ch1_seq = [11, 12, 13, 14, 15]\n",
    "ch2_seq = [21, 22, 23, 24, 25]\n",
    "trig_seq = [True, True, True, True, True]\n",
    "\n",
    "test_2ch_record(length, delay, ch1_seq, ch2_seq, trig_seq)\n",
    "print('-'*60)\n",
    "test_2ch_record(length, delay, ch1_seq, ch2_seq, trig_seq, ScopeV2)"
   ]
  },
  {
   "cell_type": "markdown",
   "id": "0e73091a-9de1-4b7d-9938-e158879655f1",
   "metadata": {},
   "source": [
    "##### Same, but starting trigger 1 instant later\n",
    "\n",
    "Expected result:\n",
    "- ch1 recorded values = [12, 13, 14]\n",
    "- ScopeMimicry: `mem=[13. 23. 14. 24. 12. 22.]`, `final_idx=1`\n",
    "  - actual result: `mem=[13. 23. 11. 21. 12. 22.]`, `final_idx=0` ❌ (again last instant missed, keeping instead old instant `k=1`)\n",
    "- ScopeV2: `mem=[14. 24. 12. 22. 13. 23.]`, `final_idx=0` → ✅"
   ]
  },
  {
   "cell_type": "code",
   "execution_count": 42,
   "id": "505ea542-a901-4231-9162-bab7bac8decc",
   "metadata": {},
   "outputs": [
    {
     "name": "stdout",
     "output_type": "stream",
     "text": [
      "Scope simulating along 5 instants...\n",
      "Init ScopeMimicry(length=3, nb_channel=2)\n",
      "Set delay d=0.0:\n",
      "- _delay=0\n",
      "- _delay_complement=3\n",
      "Connect channel named \"ch1\" to variable at addr \"ptr1\"\n",
      "Connect channel named \"ch2\" to variable at addr \"ptr2\"\n",
      "creating trig function with sequence of length 5\n",
      "k=0: ch1=11, ch2=21\n",
      "  _acq_counter=0, \n",
      "  → return 0, memory= [ 0.  0. 11. 21.  0.  0.]\n",
      "\n",
      "k=1: ch1=12, ch2=22\n",
      "  !trigger started: _trigged_counter = 0 [i.e. (1+3-1)%3]\n",
      "  _acq_counter=1, trigg_value, _trigged, \n",
      "  → return 1, memory= [ 0.  0. 11. 21. 12. 22.]\n",
      "\n",
      "k=2: ch1=13, ch2=23\n",
      "  _acq_counter=2, trigg_value, _trigged, \n",
      "  → return 1, memory= [13. 23. 11. 21. 12. 22.]\n",
      "\n",
      "k=3: ch1=14, ch2=24\n",
      "  _acq_counter=0, trigg_value, _trigged, \n",
      "  acquisition already done: no record (_final_idx=2)\n",
      "  → return 2, memory= [13. 23. 11. 21. 12. 22.]\n",
      "\n",
      "k=4: ch1=15, ch2=25\n",
      "  _acq_counter=0, trigg_value, _trigged, \n",
      "  acquisition already done: no record (_final_idx=0)\n",
      "  → return 2, memory= [13. 23. 11. 21. 12. 22.]\n",
      "\n",
      "------------------------------------------------------------\n",
      "Scope simulating along 5 instants...\n",
      "Init ScopeV2(length=3, nb_channel=2)\n",
      "Set delay d=0.0:\n",
      "- _nb_pretrig=0\n",
      "Connect channel named \"ch1\" to variable at addr \"ptr1\"\n",
      "Connect channel named \"ch2\" to variable at addr \"ptr2\"\n",
      "creating trig function with sequence of length 5\n",
      "k=0: ch1=11, ch2=21\n",
      "  Recording... (_acq_count=0, _posttrig_count=0)\n",
      "  → return ScopeStatus.ACQ_UNTRIG, memory= [11. 21.  0.  0.  0.  0.]\n",
      "\n",
      "k=1: ch1=12, ch2=22\n",
      "  Trigger event! (with already _acq_count=0 samples)\n",
      "  Recording... (_acq_count=0, _posttrig_count=0)\n",
      "  → return ScopeStatus.ACQ_TRIG, memory= [11. 21. 12. 22.  0.  0.]\n",
      "\n",
      "k=2: ch1=13, ch2=23\n",
      "  Recording... (_acq_count=1, _posttrig_count=1)\n",
      "  → return ScopeStatus.ACQ_TRIG, memory= [11. 21. 12. 22. 13. 23.]\n",
      "\n",
      "k=3: ch1=14, ch2=24\n",
      "  Recording... (_acq_count=2, _posttrig_count=2)\n",
      "  → return ScopeStatus.ACQ_TRIG, memory= [14. 24. 12. 22. 13. 23.]\n",
      "\n",
      "k=4: ch1=15, ch2=25\n",
      "  Record DONE (with _acq_count=3, _final_idx=0)\n",
      "  → return ScopeStatus.DONE, memory= [14. 24. 12. 22. 13. 23.]\n",
      "\n"
     ]
    }
   ],
   "source": [
    "length = 3\n",
    "delay = 0.0\n",
    "ch1_seq = [11, 12, 13, 14, 15]\n",
    "ch2_seq = [21, 22, 23, 24, 25]\n",
    "trig_seq = [False, True, True, True, True]\n",
    "\n",
    "test_2ch_record(length, delay, ch1_seq, ch2_seq, trig_seq)\n",
    "print('-'*60)\n",
    "test_2ch_record(length, delay, ch1_seq, ch2_seq, trig_seq, ScopeV2)"
   ]
  },
  {
   "cell_type": "markdown",
   "id": "85883a42-90c7-4548-8130-251300f29f5f",
   "metadata": {},
   "source": [
    "#### Example with 100% delay\n",
    "- bad example, because the expected output is impossible to do, since the trigger starts at the beginning → should record values past the simulation start..."
   ]
  },
  {
   "cell_type": "code",
   "execution_count": 43,
   "id": "5581a171-1d03-44ff-bdff-f864f960753e",
   "metadata": {},
   "outputs": [
    {
     "name": "stdout",
     "output_type": "stream",
     "text": [
      "Scope simulating along 5 instants...\n",
      "Init ScopeMimicry(length=3, nb_channel=2)\n",
      "Set delay d=1.0:\n",
      "- _delay=3\n",
      "- _delay_complement=0\n",
      "Connect channel named \"ch1\" to variable at addr \"ptr1\"\n",
      "Connect channel named \"ch2\" to variable at addr \"ptr2\"\n",
      "creating trig function with sequence of length 5\n",
      "k=0: ch1=11, ch2=21\n",
      "  !trigger started: _trigged_counter = 2 [i.e. 0+0-1]\n",
      "  _acq_counter=0, trigg_value, _trigged, \n",
      "  → return 1, memory= [ 0.  0. 11. 21.  0.  0.]\n",
      "\n",
      "k=1: ch1=12, ch2=22\n",
      "  _acq_counter=1, trigg_value, _trigged, \n",
      "  → return 1, memory= [ 0.  0. 11. 21. 12. 22.]\n",
      "\n",
      "k=2: ch1=13, ch2=23\n",
      "  _acq_counter=2, trigg_value, _trigged, \n",
      "  acquisition already done: no record (_final_idx=2)\n",
      "  → return 2, memory= [ 0.  0. 11. 21. 12. 22.]\n",
      "\n",
      "k=3: ch1=14, ch2=24\n",
      "  _acq_counter=2, trigg_value, _trigged, \n",
      "  acquisition already done: no record (_final_idx=2)\n",
      "  → return 2, memory= [ 0.  0. 11. 21. 12. 22.]\n",
      "\n",
      "k=4: ch1=15, ch2=25\n",
      "  _acq_counter=2, trigg_value, _trigged, \n",
      "  acquisition already done: no record (_final_idx=2)\n",
      "  → return 2, memory= [ 0.  0. 11. 21. 12. 22.]\n",
      "\n",
      "------------------------------------------------------------\n",
      "Scope simulating along 5 instants...\n",
      "Init ScopeV2(length=3, nb_channel=2)\n",
      "Set delay d=1.0:\n",
      "- _nb_pretrig=3\n",
      "Connect channel named \"ch1\" to variable at addr \"ptr1\"\n",
      "Connect channel named \"ch2\" to variable at addr \"ptr2\"\n",
      "creating trig function with sequence of length 5\n",
      "k=0: ch1=11, ch2=21\n",
      "  Trigger event! (with already _acq_count=0 samples)\n",
      "  Record DONE (with _acq_count=0, _final_idx=2)\n",
      "  → return ScopeStatus.DONE, memory= [0. 0. 0. 0. 0. 0.]\n",
      "\n",
      "k=1: ch1=12, ch2=22\n",
      "  → return ScopeStatus.DONE, memory= [0. 0. 0. 0. 0. 0.]\n",
      "\n",
      "k=2: ch1=13, ch2=23\n",
      "  → return ScopeStatus.DONE, memory= [0. 0. 0. 0. 0. 0.]\n",
      "\n",
      "k=3: ch1=14, ch2=24\n",
      "  → return ScopeStatus.DONE, memory= [0. 0. 0. 0. 0. 0.]\n",
      "\n",
      "k=4: ch1=15, ch2=25\n",
      "  → return ScopeStatus.DONE, memory= [0. 0. 0. 0. 0. 0.]\n",
      "\n"
     ]
    }
   ],
   "source": [
    "length = 3\n",
    "delay = 1.0\n",
    "ch1_seq = [11, 12, 13, 14, 15]\n",
    "ch2_seq = [21, 22, 23, 24, 25]\n",
    "trig_seq = [True, True, True, True, True]\n",
    "\n",
    "test_2ch_record(length, delay, ch1_seq, ch2_seq, trig_seq)\n",
    "print('-'*60)\n",
    "test_2ch_record(length, delay, ch1_seq, ch2_seq, trig_seq, ScopeV2)"
   ]
  },
  {
   "cell_type": "markdown",
   "id": "ce2c2314-e009-40cc-a69f-d52de02935d0",
   "metadata": {},
   "source": [
    "#### Example with 100% delay and late trigger ***TO BE RERUN....***\n",
    "- expected results: end the record at the trigger instant and yield ch1=11, 12, 13\n",
    "- ⛓️‍💥 DOESN't work: **several instants after trigger gets recorded**"
   ]
  },
  {
   "cell_type": "code",
   "execution_count": 44,
   "id": "92ec0622-b498-44b1-87d5-257a2d475e69",
   "metadata": {},
   "outputs": [
    {
     "name": "stdout",
     "output_type": "stream",
     "text": [
      "Scope simulating along 6 instants...\n",
      "Init ScopeMimicry(length=3, nb_channel=2)\n",
      "Set delay d=1.0:\n",
      "- _delay=3\n",
      "- _delay_complement=0\n",
      "Connect channel named \"ch1\" to variable at addr \"ptr1\"\n",
      "Connect channel named \"ch2\" to variable at addr \"ptr2\"\n",
      "creating trig function with sequence of length 6\n",
      "k=0: ch1=11, ch2=21\n",
      "  _acq_counter=0, \n",
      "  → return 0, memory= [ 0.  0. 11. 21.  0.  0.]\n",
      "\n",
      "k=1: ch1=12, ch2=22\n",
      "  _acq_counter=1, \n",
      "  → return 0, memory= [ 0.  0. 11. 21. 12. 22.]\n",
      "\n",
      "k=2: ch1=13, ch2=23\n",
      "  _acq_counter=2, \n",
      "  → return 0, memory= [13. 23. 11. 21. 12. 22.]\n",
      "\n",
      "k=3: ch1=14, ch2=24\n",
      "  !trigger started: _trigged_counter = 2 [i.e. 0+0-1]\n",
      "  _acq_counter=0, trigg_value, _trigged, \n",
      "  → return 1, memory= [13. 23. 14. 24. 12. 22.]\n",
      "\n",
      "k=4: ch1=15, ch2=25\n",
      "  _acq_counter=1, trigg_value, _trigged, \n",
      "  → return 1, memory= [13. 23. 14. 24. 15. 25.]\n",
      "\n",
      "k=5: ch1=16, ch2=25\n",
      "  _acq_counter=2, trigg_value, _trigged, \n",
      "  acquisition already done: no record (_final_idx=2)\n",
      "  → return 2, memory= [13. 23. 14. 24. 15. 25.]\n",
      "\n"
     ]
    }
   ],
   "source": [
    "length = 3\n",
    "delay = 1.0\n",
    "ch1_seq = [11, 12, 13, 14, 15, 16]\n",
    "ch2_seq = [21, 22, 23, 24, 25, 25]\n",
    "trig_seq = [False, False, False, True, True, True]\n",
    "\n",
    "test_2ch_record(length, delay, ch1_seq, ch2_seq, trig_seq)"
   ]
  },
  {
   "cell_type": "markdown",
   "id": "88c69955-e344-4f7c-a33e-9736cd0c7dc3",
   "metadata": {},
   "source": [
    "#### Example with short delay (delay=1, length=4) and late trigger\n",
    "- expected results: record 3 samples after trigger and yield ch1 = 13, 14, 15, 16\n",
    "- ⛓️‍💥 broken, but like the previous ones (last sample missed)"
   ]
  },
  {
   "cell_type": "code",
   "execution_count": 27,
   "id": "c337d065-dc72-4b7e-9c07-98d00544c1b8",
   "metadata": {},
   "outputs": [
    {
     "name": "stdout",
     "output_type": "stream",
     "text": [
      "Scope simulating along 6 instants...\n",
      "Init ScopeMimicry(length=4, nb_channel=2)\n",
      "Set delay d=0.25:\n",
      "- _delay=1\n",
      "- _delay_complement=3\n",
      "Connect channel named \"ch1\" to variable at addr \"ptr1\"\n",
      "Connect channel named \"ch2\" to variable at addr \"ptr2\"\n",
      "creating trig function with sequence of length 6\n",
      "k=0: ch1=11, ch2=21\n",
      "  _acq_counter=0, \n",
      "  → return 0, memory= [ 0.  0. 11. 21.  0.  0.  0.  0.]\n",
      "\n",
      "k=1: ch1=12, ch2=22\n",
      "  _acq_counter=1, \n",
      "  → return 0, memory= [ 0.  0. 11. 21. 12. 22.  0.  0.]\n",
      "\n",
      "k=2: ch1=13, ch2=23\n",
      "  _acq_counter=2, \n",
      "  → return 0, memory= [ 0.  0. 11. 21. 12. 22. 13. 23.]\n",
      "\n",
      "k=3: ch1=14, ch2=24\n",
      "  !trigger started: _trigged_counter = 1 [i.e. (3+3-1)%4]\n",
      "  _acq_counter=3, trigg_value, _trigged, \n",
      "  → return 1, memory= [14. 24. 11. 21. 12. 22. 13. 23.]\n",
      "\n",
      "k=4: ch1=15, ch2=25\n",
      "  _acq_counter=0, trigg_value, _trigged, \n",
      "  → return 1, memory= [14. 24. 15. 25. 12. 22. 13. 23.]\n",
      "\n",
      "k=5: ch1=16, ch2=25\n",
      "  _acq_counter=1, trigg_value, _trigged, \n",
      "  acquisition already done: no record (_final_idx=3)\n",
      "  → return 2, memory= [14. 24. 15. 25. 12. 22. 13. 23.]\n",
      "\n"
     ]
    }
   ],
   "source": [
    "length = 4\n",
    "delay = 0.25\n",
    "\n",
    "ch1_seq  = [11, 12, 13, 14, 15, 16]\n",
    "ch2_seq  = [21, 22, 23, 24, 25, 25]\n",
    "trig_seq = [F,  F,  F,  T,  T,  T]\n",
    "\n",
    "test_2ch_record(length, delay, ch1_seq, ch2_seq, trig_seq)"
   ]
  },
  {
   "cell_type": "code",
   "execution_count": null,
   "id": "30f09a50-ac86-41c0-b512-7eef8c79e8d4",
   "metadata": {},
   "outputs": [],
   "source": []
  }
 ],
 "metadata": {
  "kernelspec": {
   "display_name": "Python 3 (ipykernel)",
   "language": "python",
   "name": "python3"
  },
  "language_info": {
   "codemirror_mode": {
    "name": "ipython",
    "version": 3
   },
   "file_extension": ".py",
   "mimetype": "text/x-python",
   "name": "python",
   "nbconvert_exporter": "python",
   "pygments_lexer": "ipython3",
   "version": "3.11.10"
  }
 },
 "nbformat": 4,
 "nbformat_minor": 5
}
